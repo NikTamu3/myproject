{
  "nbformat": 4,
  "nbformat_minor": 0,
  "metadata": {
    "colab": {
      "provenance": [],
      "gpuType": "T4",
      "mount_file_id": "1G6QmaxEcsFcPqa8gkIVO3u5ZufXdfcWL",
      "authorship_tag": "ABX9TyMleMp9VhaolxPzKonR9uh/",
      "include_colab_link": true
    },
    "kernelspec": {
      "name": "python3",
      "display_name": "Python 3"
    },
    "language_info": {
      "name": "python"
    },
    "accelerator": "GPU"
  },
  "cells": [
    {
      "cell_type": "markdown",
      "metadata": {
        "id": "view-in-github",
        "colab_type": "text"
      },
      "source": [
        "<a href=\"https://colab.research.google.com/github/NikTamu3/myproject/blob/main/KERAS_OCR.ipynb\" target=\"_parent\"><img src=\"https://colab.research.google.com/assets/colab-badge.svg\" alt=\"Open In Colab\"/></a>"
      ]
    },
    {
      "cell_type": "code",
      "source": [
        "from google.colab import drive\n",
        "drive.mount('/content/drive/')\n"
      ],
      "metadata": {
        "colab": {
          "base_uri": "https://localhost:8080/"
        },
        "id": "OdWTjkpeW13d",
        "outputId": "6b957185-290a-4da4-88d0-3186442e3775"
      },
      "execution_count": null,
      "outputs": [
        {
          "output_type": "stream",
          "name": "stdout",
          "text": [
            "Drive already mounted at /content/drive/; to attempt to forcibly remount, call drive.mount(\"/content/drive/\", force_remount=True).\n"
          ]
        }
      ]
    },
    {
      "cell_type": "code",
      "source": [
        "!pip install keras_ocr\n"
      ],
      "metadata": {
        "id": "iYFoi5Wio1FI"
      },
      "execution_count": null,
      "outputs": []
    },
    {
      "cell_type": "code",
      "source": [
        "import matplotlib.pyplot as plt\n",
        "import keras_ocr\n",
        "import cv2\n",
        "import math\n",
        "import numpy as np\n"
      ],
      "metadata": {
        "id": "97XZdQYOYiGv"
      },
      "execution_count": null,
      "outputs": []
    },
    {
      "cell_type": "code",
      "source": [
        "def midpoint(x1, y1, x2, y2):\n",
        "    x_mid = int((x1 + x2)/2)\n",
        "    y_mid = int((y1 + y2)/2)\n",
        "    return (x_mid, y_mid)"
      ],
      "metadata": {
        "id": "cKZsiazAhCgz"
      },
      "execution_count": null,
      "outputs": []
    },
    {
      "cell_type": "code",
      "source": [
        "def inpaint_text(img_path, pipeline):\n",
        "    # read the image\n",
        "    img = keras_ocr.tools.read(img_path)\n",
        "\n",
        "    # Recogize text (and corresponding regions)\n",
        "    # Each list of predictions in prediction_groups is a list of\n",
        "    # (word, box) tuples.\n",
        "    prediction_groups = pipeline.recognize([img])\n",
        "\n",
        "    # Define the mask for inpainting\n",
        "    mask = np.zeros(img.shape[:2], dtype=\"uint8\")\n",
        "    inpainted_img = img.copy()  # Initialize inpainted_img\n",
        "\n",
        "    for box in prediction_groups[0]:\n",
        "        x0, y0 = box[1][0]\n",
        "        x1, y1 = box[1][1]\n",
        "        x2, y2 = box[1][2]\n",
        "        x3, y3 = box[1][3]\n",
        "\n",
        "        x_mid0, y_mid0 = midpoint(x1, y1, x2, y2)\n",
        "        x_mid1, y_mid1 = midpoint(x0, y0, x3, y3)\n",
        "\n",
        "        # For the line thickness, we will calculate the length of the line between\n",
        "        # the top-left corner and the bottom-left corner.\n",
        "        thickness = int(math.sqrt( (x2 - x1)**2 + (y2 - y1)**2 ))\n",
        "\n",
        "        # Define the line and inpaint\n",
        "        cv2.line(mask, (x_mid0, y_mid0), (x_mid1, y_mid1), 255, thickness)\n",
        "        inpainted_img = cv2.inpaint(inpainted_img, mask, 7, cv2.INPAINT_NS)\n",
        "\n",
        "    return inpainted_img\n"
      ],
      "metadata": {
        "id": "oHC7BqMZPnWW"
      },
      "execution_count": null,
      "outputs": []
    },
    {
      "cell_type": "code",
      "source": [
        "import os\n",
        "for dirname, _, filenames in os.walk('/content/drive/MyDrive/datasets/normal data'):\n",
        "    for filename in filenames:\n",
        "        print(os.path.join(dirname, filename))"
      ],
      "metadata": {
        "id": "rsT-PqGzkZGf"
      },
      "execution_count": null,
      "outputs": []
    },
    {
      "cell_type": "code",
      "source": [
        "pipeline = keras_ocr.pipeline.Pipeline()\n",
        "\n",
        "img_text_removed1 = inpaint_text('/content/drive/MyDrive/datasets/case data/FL18006451_Barium        Enema_1.bmp', pipeline)\n",
        "\n",
        "cv2.imwrite('cdata141.bmp',img_text_removed1)\n",
        "\n"
      ],
      "metadata": {
        "id": "CiW8GET_W1ur"
      },
      "execution_count": null,
      "outputs": []
    },
    {
      "cell_type": "code",
      "source": [
        "pipeline = keras_ocr.pipeline.Pipeline()"
      ],
      "metadata": {
        "colab": {
          "base_uri": "https://localhost:8080/"
        },
        "id": "raISsri8goM6",
        "outputId": "b88bebfb-d16c-40c8-c631-9326a49e0cff"
      },
      "execution_count": null,
      "outputs": [
        {
          "output_type": "stream",
          "name": "stdout",
          "text": [
            "Looking for /root/.keras-ocr/craft_mlt_25k.h5\n",
            "Downloading /root/.keras-ocr/craft_mlt_25k.h5\n"
          ]
        },
        {
          "output_type": "stream",
          "name": "stderr",
          "text": [
            "WARNING:tensorflow:From /usr/local/lib/python3.10/dist-packages/tensorflow/python/util/dispatch.py:1260: resize_bilinear (from tensorflow.python.ops.image_ops_impl) is deprecated and will be removed in a future version.\n",
            "Instructions for updating:\n",
            "Use `tf.image.resize(...method=ResizeMethod.BILINEAR...)` instead.\n"
          ]
        },
        {
          "output_type": "stream",
          "name": "stdout",
          "text": [
            "Looking for /root/.keras-ocr/crnn_kurapan.h5\n",
            "Downloading /root/.keras-ocr/crnn_kurapan.h5\n"
          ]
        }
      ]
    },
    {
      "cell_type": "code",
      "source": [
        "import os\n",
        "\n",
        "# Path to the folder containing the images\n",
        "folder_path = '/content/drive/MyDrive/Different Stricture dataset/PAN URethral'\n",
        "\n",
        "# Path to the new folder where the inpainted images will be saved\n",
        "new_folder_path = '/content/drive/MyDrive/Different Stricture dataset/PAN urethral txt removed'\n",
        "\n",
        "# Create the new folder if it doesn't exist\n",
        "os.makedirs(new_folder_path, exist_ok=True)\n",
        "\n",
        "# Iterate over all files in the folder and its subfolders\n",
        "for root, _, files in os.walk(folder_path):\n",
        "    for filename in files:\n",
        "        if filename.endswith(\".bmp\"):  # Check if the file is a BMP image\n",
        "            # Construct the full path to the image\n",
        "            img_path = os.path.join(root, filename)\n",
        "\n",
        "            # Apply inpainting to the image\n",
        "            img_text_removed = inpaint_text(img_path, pipeline)\n",
        "\n",
        "            # Save the inpainted image in the new folder with a new filename\n",
        "            new_filename = filename.replace('.bmp', 'bcdata.bmp')\n",
        "            new_img_path = os.path.join(new_folder_path, new_filename)\n",
        "            cv2.imwrite(new_img_path, img_text_removed)\n",
        "\n"
      ],
      "metadata": {
        "colab": {
          "base_uri": "https://localhost:8080/"
        },
        "id": "s7BZFrgngMWX",
        "outputId": "0fab3d75-f31f-4e46-a9c5-daae1570fe9d"
      },
      "execution_count": null,
      "outputs": [
        {
          "output_type": "stream",
          "name": "stdout",
          "text": [
            "1/1 [==============================] - 74s 74s/step\n",
            "2/2 [==============================] - 11s 2s/step\n",
            "1/1 [==============================] - 74s 74s/step\n",
            "2/2 [==============================] - 9s 2s/step\n",
            "1/1 [==============================] - 65s 65s/step\n",
            "2/2 [==============================] - 12s 2s/step\n",
            "1/1 [==============================] - 66s 66s/step\n",
            "2/2 [==============================] - 11s 1s/step\n",
            "1/1 [==============================] - 76s 76s/step\n",
            "2/2 [==============================] - 9s 1s/step\n",
            "1/1 [==============================] - 68s 68s/step\n",
            "2/2 [==============================] - 10s 1s/step\n",
            "1/1 [==============================] - 66s 66s/step\n",
            "2/2 [==============================] - 12s 2s/step\n",
            "1/1 [==============================] - 65s 65s/step\n",
            "2/2 [==============================] - 11s 3s/step\n",
            "1/1 [==============================] - 67s 67s/step\n",
            "2/2 [==============================] - 9s 1s/step\n",
            "1/1 [==============================] - 68s 68s/step\n",
            "2/2 [==============================] - 11s 1s/step\n",
            "1/1 [==============================] - 77s 77s/step\n",
            "2/2 [==============================] - 11s 2s/step\n",
            "1/1 [==============================] - 66s 66s/step\n",
            "2/2 [==============================] - 10s 2s/step\n",
            "1/1 [==============================] - 65s 65s/step\n",
            "2/2 [==============================] - 9s 2s/step\n",
            "1/1 [==============================] - 67s 67s/step\n",
            "2/2 [==============================] - 9s 1s/step\n",
            "1/1 [==============================] - 66s 66s/step\n",
            "2/2 [==============================] - 11s 1s/step\n",
            "1/1 [==============================] - 66s 66s/step\n",
            "2/2 [==============================] - 10s 2s/step\n",
            "1/1 [==============================] - 65s 65s/step\n",
            "2/2 [==============================] - 10s 2s/step\n",
            "1/1 [==============================] - 80s 80s/step\n",
            "2/2 [==============================] - 10s 1s/step\n",
            "1/1 [==============================] - 68s 68s/step\n",
            "2/2 [==============================] - 11s 2s/step\n",
            "1/1 [==============================] - 65s 65s/step\n",
            "2/2 [==============================] - 9s 2s/step\n",
            "1/1 [==============================] - 65s 65s/step\n",
            "2/2 [==============================] - 10s 2s/step\n",
            "1/1 [==============================] - 67s 67s/step\n",
            "2/2 [==============================] - 9s 2s/step\n",
            "1/1 [==============================] - 67s 67s/step\n",
            "2/2 [==============================] - 9s 1s/step\n",
            "1/1 [==============================] - 77s 77s/step\n",
            "2/2 [==============================] - 11s 2s/step\n",
            "1/1 [==============================] - 67s 67s/step\n",
            "2/2 [==============================] - 12s 2s/step\n"
          ]
        }
      ]
    }
  ]
}